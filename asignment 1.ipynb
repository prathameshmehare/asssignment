{
 "cells": [
  {
   "cell_type": "code",
   "execution_count": 1,
   "id": "76bdc378",
   "metadata": {},
   "outputs": [
    {
     "ename": "SyntaxError",
     "evalue": "invalid syntax (Temp/ipykernel_19684/28112154.py, line 1)",
     "output_type": "error",
     "traceback": [
      "\u001b[1;36m  File \u001b[1;32m\"C:\\Users\\PRATHA~1\\AppData\\Local\\Temp/ipykernel_19684/28112154.py\"\u001b[1;36m, line \u001b[1;32m1\u001b[0m\n\u001b[1;33m    python basic assignment 1\u001b[0m\n\u001b[1;37m           ^\u001b[0m\n\u001b[1;31mSyntaxError\u001b[0m\u001b[1;31m:\u001b[0m invalid syntax\n"
     ]
    }
   ],
   "source": [
    "\n",
    "python basic assignment 1\n",
    "1] ans\n",
    "* = expression \n",
    "'hellow' = string\n",
    "-87.8 = integer\n",
    "- = expression\n",
    "/ = expression\n",
    "+ = expression \n",
    "6 = integer\n",
    "\n",
    "2] ans \n",
    "differnce between string and variable is \n",
    "A variable is basically the name of location in the primory memory of your computer.This can be\n",
    "chosen by you.A variable can store everything form string to number.A string is the value inside the \n",
    "quotes assigned to a string.A string is  a type of value that can be store in a variables.The string \n",
    "data type is primarily used for reading and writting.\n",
    "\n",
    "3] ans \n",
    "three data types are \n",
    "1] INTEGER  - This is value represented by int class.Contain positve or negative whole number without\n",
    "fraction or decimal .In python there is no limit to how long an integer value can be \n",
    "2] STRING - In python stringd are arrays of bytes representing unicode characters.A string is a\n",
    "collection of one or more charecters put in a single quote , double quote or triple quote .In pyathon\n",
    "there is no charecter data type,a character is s string of lenght one.It is represent by str class.\n",
    "3]lIST - List are like the array, declared in other langauges which is a ordered collection of data.\n",
    "it is very flexible as the items in a list do not need to be of the same type \n",
    "\n",
    "4] ans \n",
    "an expression is a construct made up of varibles,operators,and method invocations, Wich are constructed\n",
    "according to the syntax of the langauge that evaluates to the single valule .Each expression is made up \n",
    "of terms a term can be signed number, a variable,or a constant multiplied variable or variable.expression \n",
    "need to be evaluated.if you ask python to print an expression,the the interpreter evaluates the expression\n",
    "and display the results.An expression is an instruction that combines value ans operator and always evalualte \n",
    "down to a single value.\n",
    "\n",
    "5]The assignment statement ,like spam = 10.What is the difference an expression and a statement ?\n",
    "ans = An expression evaluates to a single value. A statement does not .\n",
    "In programing langauge terminology ,an \"expression\" is a combination of values and function that are \n",
    "combined and interpreted by conmpiler to create a new value as opposed to a statement which is just a \n",
    "standalone unit of exicution and doesnt return anything\n",
    "\n",
    "6]\n",
    "ans = After running code the variable bacon contain 23\n",
    "\n",
    "\n",
    "7]\n",
    "'spam' + 'spamspam' = value of that term is 'spamspamspam'\n",
    "'spam'*3 =  value of that term is 'spamspamspam'\n",
    "\n",
    "8] ans\n",
    "eggs is a valid variable name while 100 is invalid because variable names cannot begain with number\n",
    "The expression causses an error because 99 is an integer and only string can be concatenated to other string \n",
    "with the + operator\n",
    "\n",
    "9] What three function can be uded to get the integer ,foting pont number ,or string version of value ?\n",
    "ans\n",
    "1]integer = int()\n",
    "2]floting point number = float()\n",
    "3]string = str()\n",
    "\n",
    "10]these expression cause error because we can not multiply string to interger so thats why \n",
    "we can fix this by converting integer to string\n",
    "\"i have eaten \" \"99+\" \"burritos\"\n"
   ]
  },
  {
   "cell_type": "code",
   "execution_count": 2,
   "id": "f9905839",
   "metadata": {},
   "outputs": [
    {
     "data": {
      "text/plain": [
       "23"
      ]
     },
     "execution_count": 2,
     "metadata": {},
     "output_type": "execute_result"
    }
   ],
   "source": [
    "bacon = 22 \n",
    "bacon+1"
   ]
  },
  {
   "cell_type": "code",
   "execution_count": 3,
   "id": "dd946b0c",
   "metadata": {},
   "outputs": [
    {
     "data": {
      "text/plain": [
       "'spamspamspam'"
      ]
     },
     "execution_count": 3,
     "metadata": {},
     "output_type": "execute_result"
    }
   ],
   "source": [
    "'spam' + 'spamspam'"
   ]
  },
  {
   "cell_type": "code",
   "execution_count": 4,
   "id": "24ea0c0b",
   "metadata": {},
   "outputs": [
    {
     "data": {
      "text/plain": [
       "'spamspamspam'"
      ]
     },
     "execution_count": 4,
     "metadata": {},
     "output_type": "execute_result"
    }
   ],
   "source": [
    "'spam'*3"
   ]
  },
  {
   "cell_type": "code",
   "execution_count": 7,
   "id": "87dffc6c",
   "metadata": {},
   "outputs": [
    {
     "ename": "TypeError",
     "evalue": "can only concatenate str (not \"int\") to str",
     "output_type": "error",
     "traceback": [
      "\u001b[1;31m---------------------------------------------------------------------------\u001b[0m",
      "\u001b[1;31mTypeError\u001b[0m                                 Traceback (most recent call last)",
      "\u001b[1;32mC:\\Users\\PRATHA~1\\AppData\\Local\\Temp/ipykernel_19684/2659857577.py\u001b[0m in \u001b[0;36m<module>\u001b[1;34m\u001b[0m\n\u001b[1;32m----> 1\u001b[1;33m \u001b[1;34m'i have eaten '\u001b[0m \u001b[1;33m+\u001b[0m\u001b[1;36m99\u001b[0m\u001b[1;33m+\u001b[0m\u001b[1;34m'burritos'\u001b[0m\u001b[1;33m\u001b[0m\u001b[1;33m\u001b[0m\u001b[0m\n\u001b[0m",
      "\u001b[1;31mTypeError\u001b[0m: can only concatenate str (not \"int\") to str"
     ]
    }
   ],
   "source": [
    "'i have eaten ' +99+'burritos'"
   ]
  },
  {
   "cell_type": "code",
   "execution_count": null,
   "id": "993e0e78",
   "metadata": {},
   "outputs": [],
   "source": []
  }
 ],
 "metadata": {
  "kernelspec": {
   "display_name": "Python 3 (ipykernel)",
   "language": "python",
   "name": "python3"
  },
  "language_info": {
   "codemirror_mode": {
    "name": "ipython",
    "version": 3
   },
   "file_extension": ".py",
   "mimetype": "text/x-python",
   "name": "python",
   "nbconvert_exporter": "python",
   "pygments_lexer": "ipython3",
   "version": "3.9.7"
  }
 },
 "nbformat": 4,
 "nbformat_minor": 5
}
